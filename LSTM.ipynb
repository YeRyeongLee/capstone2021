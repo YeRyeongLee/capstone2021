{
  "nbformat": 4,
  "nbformat_minor": 0,
  "metadata": {
    "colab": {
      "name": "LSTM.ipynb",
      "provenance": [],
      "collapsed_sections": []
    },
    "kernelspec": {
      "name": "python3",
      "display_name": "Python 3"
    },
    "language_info": {
      "name": "python"
    }
  },
  "cells": [
    {
      "cell_type": "code",
      "metadata": {
        "id": "2hkTrJ1O6dr4"
      },
      "source": [
        "import numpy as np\n",
        "import pandas as pd\n",
        "import matplotlib.pyplot as plt\n",
        "import tensorflow as tf\n",
        "%matplotlib inline"
      ],
      "execution_count": 1,
      "outputs": []
    },
    {
      "cell_type": "code",
      "metadata": {
        "colab": {
          "base_uri": "https://localhost:8080/"
        },
        "id": "e5OcWo25_16N",
        "outputId": "0e19bd70-5c66-45fe-a5c7-62a1ff9e42df"
      },
      "source": [
        "from google.colab import drive\n",
        "drive.mount('/gdrive')"
      ],
      "execution_count": 2,
      "outputs": [
        {
          "output_type": "stream",
          "name": "stdout",
          "text": [
            "Mounted at /gdrive\n"
          ]
        }
      ]
    },
    {
      "cell_type": "markdown",
      "metadata": {
        "id": "rB6LzB9w6gft"
      },
      "source": [
        "# 이전에 형태소 분리한 문장 불러오기"
      ]
    },
    {
      "cell_type": "code",
      "metadata": {
        "id": "1GN9_3hp6o7V"
      },
      "source": [
        "X_morphs = np.load('/gdrive/My Drive/Colab Notebooks/X_morph.npy', allow_pickle=True)"
      ],
      "execution_count": 3,
      "outputs": []
    },
    {
      "cell_type": "code",
      "metadata": {
        "id": "6T6zQ2neCAp6"
      },
      "source": [
        "y_org = np.load('/gdrive/My Drive/Colab Notebooks/y_org.npy', allow_pickle=True)"
      ],
      "execution_count": 4,
      "outputs": []
    },
    {
      "cell_type": "code",
      "metadata": {
        "colab": {
          "base_uri": "https://localhost:8080/"
        },
        "id": "Up2A7XQ8CAti",
        "outputId": "efc672db-17a6-4bda-b7ef-d7ed59226866"
      },
      "source": [
        "X_morphs"
      ],
      "execution_count": 5,
      "outputs": [
        {
          "output_type": "execute_result",
          "data": {
            "text/plain": [
              "array([list(['언니', '동생', '부르다', '맞다', '일', '인가요', '?', '.']),\n",
              "       list(['그냥', '내', '느낌', '일', '뿐', '겠다', '?']),\n",
              "       list(['아직', '너무', '초기', '라서', '그런', '거', '죠', '?']), ...,\n",
              "       list(['공장', '도시락', '비우다', '생', '적임', '아르바이트', '화장실', '가성', '손', '않씯', '재료', '담다', '바닥', '떨어지다', '줍다', '담다', '그렇다']),\n",
              "       list(['코딱지', '만', '나라', '에서', '지다', '들다', '끼리', '피터지다', '싸우다', '세다', '징', '클래스', 'ㅉㅉㅉ']),\n",
              "       list(['와이프', '그렇다', '댓글', '보다', '이휘재', '하차', '하라', '전', '해주다'])],\n",
              "      dtype=object)"
            ]
          },
          "metadata": {},
          "execution_count": 5
        }
      ]
    },
    {
      "cell_type": "code",
      "metadata": {
        "colab": {
          "base_uri": "https://localhost:8080/"
        },
        "id": "5ERaoEPwCAwG",
        "outputId": "bc316ec0-a4aa-433f-8bf4-b7394c8eb890"
      },
      "source": [
        "y_org"
      ],
      "execution_count": 6,
      "outputs": [
        {
          "output_type": "execute_result",
          "data": {
            "text/plain": [
              "array(['공포', '공포', '공포', ..., '혐오', '혐오', '혐오'], dtype=object)"
            ]
          },
          "metadata": {},
          "execution_count": 6
        }
      ]
    },
    {
      "cell_type": "markdown",
      "metadata": {
        "id": "7_sy-HE_6pjt"
      },
      "source": [
        "# train-test split"
      ]
    },
    {
      "cell_type": "code",
      "metadata": {
        "id": "PG1Ci_cvCsDX"
      },
      "source": [
        "from sklearn.model_selection import train_test_split\n",
        "X_, X_test, y_, y_test = train_test_split(X_morphs, y_org, \n",
        "                                          test_size=0.3, \n",
        "                                          random_state=777, \n",
        "                                          stratify=y_org)"
      ],
      "execution_count": 7,
      "outputs": []
    },
    {
      "cell_type": "code",
      "metadata": {
        "id": "cwey04n3ydah"
      },
      "source": [
        "X_train, X_val, y_train, y_val = train_test_split(X_, y_, \n",
        "                                                  test_size=0.1, \n",
        "                                                  random_state=777,\n",
        "                                                  stratify=y_)"
      ],
      "execution_count": 8,
      "outputs": []
    },
    {
      "cell_type": "code",
      "metadata": {
        "colab": {
          "base_uri": "https://localhost:8080/"
        },
        "id": "rnEwMUC-D8Gg",
        "outputId": "087186a0-87d0-46ac-804e-6b01344e30b9"
      },
      "source": [
        "np.unique(y_test, return_counts=True)"
      ],
      "execution_count": 9,
      "outputs": [
        {
          "output_type": "execute_result",
          "data": {
            "text/plain": [
              "(array(['공포', '놀람', '분노', '슬픔', '중립', '행복', '혐오'], dtype=object),\n",
              " array([1638, 1766, 1699, 1573, 1448, 1801, 1628]))"
            ]
          },
          "metadata": {},
          "execution_count": 9
        }
      ]
    },
    {
      "cell_type": "markdown",
      "metadata": {
        "id": "aWM3R55N7PIF"
      },
      "source": [
        "# 레이블 원핫 인코딩"
      ]
    },
    {
      "cell_type": "code",
      "metadata": {
        "id": "gCkCNDadF60s"
      },
      "source": [
        "from sklearn.preprocessing import LabelEncoder\n",
        "enc = LabelEncoder()\n",
        "y_train = enc.fit_transform(y_train)\n",
        "y_val = enc.transform(y_val)\n",
        "y_test = enc.transform(y_test)"
      ],
      "execution_count": 10,
      "outputs": []
    },
    {
      "cell_type": "code",
      "metadata": {
        "id": "K4DjjzlM7PV3"
      },
      "source": [
        "from tensorflow.keras.utils import to_categorical\n",
        "\n",
        "y_train = to_categorical(y_train)\n",
        "y_val = to_categorical(y_val)\n",
        "y_test = to_categorical(y_test)"
      ],
      "execution_count": 11,
      "outputs": []
    },
    {
      "cell_type": "code",
      "metadata": {
        "colab": {
          "base_uri": "https://localhost:8080/"
        },
        "id": "VZMtK0QA67CO",
        "outputId": "7532550a-daa9-493d-9492-599c2993d422"
      },
      "source": [
        "y_train.shape"
      ],
      "execution_count": 12,
      "outputs": [
        {
          "output_type": "execute_result",
          "data": {
            "text/plain": [
              "(24260, 7)"
            ]
          },
          "metadata": {},
          "execution_count": 12
        }
      ]
    },
    {
      "cell_type": "code",
      "metadata": {
        "colab": {
          "base_uri": "https://localhost:8080/"
        },
        "id": "TK0MWEjVeCKG",
        "outputId": "76d39013-d3fb-4f3d-8ff8-342ccff98b00"
      },
      "source": [
        "y_val.shape"
      ],
      "execution_count": 13,
      "outputs": [
        {
          "output_type": "execute_result",
          "data": {
            "text/plain": [
              "(2696, 7)"
            ]
          },
          "metadata": {},
          "execution_count": 13
        }
      ]
    },
    {
      "cell_type": "code",
      "metadata": {
        "colab": {
          "base_uri": "https://localhost:8080/"
        },
        "id": "rvMOOPg0GMzh",
        "outputId": "fa017e1e-3e80-47bd-f888-bb19ee56dbdc"
      },
      "source": [
        "y_test.shape"
      ],
      "execution_count": 14,
      "outputs": [
        {
          "output_type": "execute_result",
          "data": {
            "text/plain": [
              "(11553, 7)"
            ]
          },
          "metadata": {},
          "execution_count": 14
        }
      ]
    },
    {
      "cell_type": "code",
      "metadata": {
        "id": "jMOU2QPotIYd"
      },
      "source": [
        ""
      ],
      "execution_count": 14,
      "outputs": []
    },
    {
      "cell_type": "code",
      "metadata": {
        "id": "Qg5xZZrzuP43"
      },
      "source": [
        ""
      ],
      "execution_count": 14,
      "outputs": []
    },
    {
      "cell_type": "code",
      "metadata": {
        "id": "Df46lBwZuP7Q"
      },
      "source": [
        ""
      ],
      "execution_count": 14,
      "outputs": []
    },
    {
      "cell_type": "code",
      "metadata": {
        "id": "MAqsOeziuP9t"
      },
      "source": [
        ""
      ],
      "execution_count": 14,
      "outputs": []
    },
    {
      "cell_type": "code",
      "metadata": {
        "id": "iHcim2euuQAC"
      },
      "source": [
        ""
      ],
      "execution_count": 14,
      "outputs": []
    },
    {
      "cell_type": "markdown",
      "metadata": {
        "id": "swbyf5sf67gG"
      },
      "source": [
        "# 정수 인코딩"
      ]
    },
    {
      "cell_type": "code",
      "metadata": {
        "id": "F2Ha52eY7Ina"
      },
      "source": [
        "from tensorflow.keras.preprocessing.text import Tokenizer\n",
        "tokenizer = Tokenizer()\n",
        "tokenizer.fit_on_texts(X_train)"
      ],
      "execution_count": 15,
      "outputs": []
    },
    {
      "cell_type": "code",
      "metadata": {
        "colab": {
          "base_uri": "https://localhost:8080/"
        },
        "id": "LJhrA4yiINjL",
        "outputId": "d14e14a6-a254-4c6b-be84-f1e2ca3358cc"
      },
      "source": [
        "threshold = 2\n",
        "total_cnt = len(tokenizer.word_index)\n",
        "rare_cnt = 0\n",
        "total_freq = 0\n",
        "rare_freq = 0 \n",
        "\n",
        "for key, value in tokenizer.word_counts.items():\n",
        "    total_freq = total_freq + value\n",
        "    if(value < threshold):\n",
        "        rare_cnt = rare_cnt + 1\n",
        "        rare_freq = rare_freq + value\n",
        "\n",
        "print('단어 집합 크기 :',total_cnt)\n",
        "print('출현빈도가 %s번 미만 단어 수: %s'%(threshold, rare_cnt))\n",
        "print(\"희귀 단어의 비율:\", (rare_cnt / total_cnt)*100)\n",
        "print(\"전체 등장 빈도에서 희귀 단어 등장 빈도 비율:\", (rare_freq / total_freq)*100)"
      ],
      "execution_count": 16,
      "outputs": [
        {
          "output_type": "stream",
          "name": "stdout",
          "text": [
            "단어 집합 크기 : 19028\n",
            "출현빈도가 2번 미만 단어 수: 9381\n",
            "희귀 단어의 비율: 49.301030060962795\n",
            "전체 등장 빈도에서 희귀 단어 등장 빈도 비율: 4.9930541140402696\n"
          ]
        }
      ]
    },
    {
      "cell_type": "code",
      "metadata": {
        "colab": {
          "base_uri": "https://localhost:8080/"
        },
        "id": "ZjZyP0owINlq",
        "outputId": "9bc85de8-6b59-46bc-e1dd-ff5c03e2d297"
      },
      "source": [
        "voca_threshold = total_cnt - rare_cnt + 1\n",
        "voca_threshold"
      ],
      "execution_count": 17,
      "outputs": [
        {
          "output_type": "execute_result",
          "data": {
            "text/plain": [
              "9648"
            ]
          },
          "metadata": {},
          "execution_count": 17
        }
      ]
    },
    {
      "cell_type": "code",
      "metadata": {
        "id": "Lj7fvPZbINn7"
      },
      "source": [
        "tokenizer2 = Tokenizer(voca_threshold)\n",
        "tokenizer2.fit_on_texts(X_train)\n",
        "X_train = tokenizer2.texts_to_sequences(X_train)\n",
        "X_val = tokenizer2.texts_to_sequences(X_val)\n",
        "X_test = tokenizer2.texts_to_sequences(X_test)"
      ],
      "execution_count": 18,
      "outputs": []
    },
    {
      "cell_type": "code",
      "metadata": {
        "colab": {
          "base_uri": "https://localhost:8080/"
        },
        "id": "76PBAUhGINqg",
        "outputId": "724063e3-8f91-4efb-87cd-1232a34d77f0"
      },
      "source": [
        "X_train[:5]"
      ],
      "execution_count": 19,
      "outputs": [
        {
          "output_type": "execute_result",
          "data": {
            "text/plain": [
              "[[665, 118],\n",
              " [1619, 4, 2, 1025, 469],\n",
              " [29, 174, 46, 355, 2],\n",
              " [1470, 128, 27, 12],\n",
              " [44, 1708, 3049, 8, 2, 7, 102]]"
            ]
          },
          "metadata": {},
          "execution_count": 19
        }
      ]
    },
    {
      "cell_type": "code",
      "metadata": {
        "id": "UoOkcv_OJ0yQ"
      },
      "source": [
        "drop_train = [index for index, sentence in enumerate(X_train) if len(sentence) < 1]"
      ],
      "execution_count": 20,
      "outputs": []
    },
    {
      "cell_type": "code",
      "metadata": {
        "colab": {
          "base_uri": "https://localhost:8080/"
        },
        "id": "lQX-yMfTJ_8v",
        "outputId": "c3d003fa-3628-4650-d41e-6737b6cd8e44"
      },
      "source": [
        "X_train = np.delete(X_train, drop_train, axis=0)\n",
        "y_train = np.delete(y_train, drop_train, axis=0)"
      ],
      "execution_count": 21,
      "outputs": [
        {
          "output_type": "stream",
          "name": "stderr",
          "text": [
            "/usr/local/lib/python3.7/dist-packages/numpy/core/_asarray.py:83: VisibleDeprecationWarning: Creating an ndarray from ragged nested sequences (which is a list-or-tuple of lists-or-tuples-or ndarrays with different lengths or shapes) is deprecated. If you meant to do this, you must specify 'dtype=object' when creating the ndarray\n",
            "  return array(a, dtype, copy=False, order=order)\n"
          ]
        }
      ]
    },
    {
      "cell_type": "code",
      "metadata": {
        "colab": {
          "base_uri": "https://localhost:8080/"
        },
        "id": "SksWNzELKABn",
        "outputId": "ff00d532-fa55-420b-d8e0-86d3733f19ec"
      },
      "source": [
        "print(X_train.shape)\n",
        "print(y_train.shape)"
      ],
      "execution_count": 22,
      "outputs": [
        {
          "output_type": "stream",
          "name": "stdout",
          "text": [
            "(24249,)\n",
            "(24249, 7)\n"
          ]
        }
      ]
    },
    {
      "cell_type": "code",
      "metadata": {
        "id": "M9I4uhgiv2Aq"
      },
      "source": [
        ""
      ],
      "execution_count": 22,
      "outputs": []
    },
    {
      "cell_type": "markdown",
      "metadata": {
        "id": "PAM0IZ3K7JUy"
      },
      "source": [
        "# 패딩"
      ]
    },
    {
      "cell_type": "code",
      "metadata": {
        "colab": {
          "base_uri": "https://localhost:8080/",
          "height": 265
        },
        "id": "KAb_Gysx7KBY",
        "outputId": "be102ae2-6098-406b-ad73-ca43d41c4a74"
      },
      "source": [
        "plt.hist([len(s) for s in X_train], bins=50)\n",
        "plt.show()"
      ],
      "execution_count": 23,
      "outputs": [
        {
          "output_type": "display_data",
          "data": {
            "image/png": "[encoded data removed]",
            "text/plain": [
              "<Figure size 432x288 with 1 Axes>"
            ]
          },
          "metadata": {
            "needs_background": "light"
          }
        }
      ]
    },
    {
      "cell_type": "code",
      "metadata": {
        "colab": {
          "base_uri": "https://localhost:8080/"
        },
        "id": "spOiIctQKnzr",
        "outputId": "22fce5ef-5531-447c-bb00-0a5cc5974a9a"
      },
      "source": [
        "max(len(l) for l in X_train)"
      ],
      "execution_count": 24,
      "outputs": [
        {
          "output_type": "execute_result",
          "data": {
            "text/plain": [
              "113"
            ]
          },
          "metadata": {},
          "execution_count": 24
        }
      ]
    },
    {
      "cell_type": "code",
      "metadata": {
        "id": "UvO8lxpyLgud"
      },
      "source": [
        "max_len = 30"
      ],
      "execution_count": 25,
      "outputs": []
    },
    {
      "cell_type": "code",
      "metadata": {
        "id": "rkQutS9bKn2O"
      },
      "source": [
        "from tensorflow.keras.preprocessing.sequence import pad_sequences"
      ],
      "execution_count": 26,
      "outputs": []
    },
    {
      "cell_type": "code",
      "metadata": {
        "id": "PeW-fiWmKn4a"
      },
      "source": [
        "X_train = pad_sequences(X_train, maxlen=max_len)\n",
        "X_val = pad_sequences(X_val, maxlen=max_len)\n",
        "X_test = pad_sequences(X_test, maxlen=max_len)"
      ],
      "execution_count": 27,
      "outputs": []
    },
    {
      "cell_type": "code",
      "metadata": {
        "colab": {
          "base_uri": "https://localhost:8080/"
        },
        "id": "3xh0Sz1xKn62",
        "outputId": "b2c49c8f-27c2-4eb3-e693-cca9045497d0"
      },
      "source": [
        "X_train[:5]"
      ],
      "execution_count": 28,
      "outputs": [
        {
          "output_type": "execute_result",
          "data": {
            "text/plain": [
              "array([[   0,    0,    0,    0,    0,    0,    0,    0,    0,    0,    0,\n",
              "           0,    0,    0,    0,    0,    0,    0,    0,    0,    0,    0,\n",
              "           0,    0,    0,    0,    0,    0,  665,  118],\n",
              "       [   0,    0,    0,    0,    0,    0,    0,    0,    0,    0,    0,\n",
              "           0,    0,    0,    0,    0,    0,    0,    0,    0,    0,    0,\n",
              "           0,    0,    0, 1619,    4,    2, 1025,  469],\n",
              "       [   0,    0,    0,    0,    0,    0,    0,    0,    0,    0,    0,\n",
              "           0,    0,    0,    0,    0,    0,    0,    0,    0,    0,    0,\n",
              "           0,    0,    0,   29,  174,   46,  355,    2],\n",
              "       [   0,    0,    0,    0,    0,    0,    0,    0,    0,    0,    0,\n",
              "           0,    0,    0,    0,    0,    0,    0,    0,    0,    0,    0,\n",
              "           0,    0,    0,    0, 1470,  128,   27,   12],\n",
              "       [   0,    0,    0,    0,    0,    0,    0,    0,    0,    0,    0,\n",
              "           0,    0,    0,    0,    0,    0,    0,    0,    0,    0,    0,\n",
              "           0,   44, 1708, 3049,    8,    2,    7,  102]], dtype=int32)"
            ]
          },
          "metadata": {},
          "execution_count": 28
        }
      ]
    },
    {
      "cell_type": "code",
      "metadata": {
        "id": "TEys3Dy_Kn9K"
      },
      "source": [
        ""
      ],
      "execution_count": 28,
      "outputs": []
    },
    {
      "cell_type": "code",
      "metadata": {
        "id": "F9Ltg2qh8DAM"
      },
      "source": [
        ""
      ],
      "execution_count": 28,
      "outputs": []
    },
    {
      "cell_type": "markdown",
      "metadata": {
        "id": "hBaE3qVy-jIB"
      },
      "source": [
        "# LSTM _ 기본 Embedding()"
      ]
    },
    {
      "cell_type": "code",
      "metadata": {
        "id": "Tr9KP6iDL7Cv"
      },
      "source": [
        "from tensorflow.keras.models import Sequential\n",
        "from tensorflow.keras.layers import Dense, LSTM, Embedding\n",
        "from tensorflow.keras.callbacks import EarlyStopping, ModelCheckpoint\n",
        "from tensorflow.keras.models import load_model"
      ],
      "execution_count": 29,
      "outputs": []
    },
    {
      "cell_type": "code",
      "metadata": {
        "id": "zcUjbEJEMPk1"
      },
      "source": [
        "vocab_size = voca_threshold\n",
        "embedding_dim = 128\n",
        "hidden_units = 128\n",
        "num_classes = 7\n",
        "\n",
        "model = Sequential()\n",
        "model.add(Embedding(vocab_size, embedding_dim))\n",
        "model.add(LSTM(hidden_units))\n",
        "model.add(Dense(num_classes, activation='softmax'))"
      ],
      "execution_count": 30,
      "outputs": []
    },
    {
      "cell_type": "code",
      "metadata": {
        "id": "TeTptF6kM48m"
      },
      "source": [
        "es = EarlyStopping(monitor='val_loss', mode='min', verbose=1, patience=3)\n",
        "mc = ModelCheckpoint('best_model.h5', monitor='val_acc', mode='max', verbose=1, save_best_only=True)"
      ],
      "execution_count": 31,
      "outputs": []
    },
    {
      "cell_type": "code",
      "metadata": {
        "id": "SfHjjfNuNJen"
      },
      "source": [
        "model.compile(loss='categorical_crossentropy', optimizer='adam', metrics=['acc'])"
      ],
      "execution_count": 32,
      "outputs": []
    },
    {
      "cell_type": "code",
      "metadata": {
        "colab": {
          "base_uri": "https://localhost:8080/"
        },
        "id": "Efq6HfNXNR56",
        "outputId": "7b130704-f4a4-4547-9bc5-7fb790b7fac6"
      },
      "source": [
        "history = model.fit(X_train, y_train, batch_size=128, epochs=10, callbacks=[es, mc], validation_data=(X_val, y_val))"
      ],
      "execution_count": 33,
      "outputs": [
        {
          "output_type": "stream",
          "name": "stdout",
          "text": [
            "Epoch 1/10\n",
            "190/190 [==============================] - 28s 135ms/step - loss: 1.5935 - acc: 0.3852 - val_loss: 1.4008 - val_acc: 0.4484\n",
            "\n",
            "Epoch 00001: val_acc improved from -inf to 0.44844, saving model to best_model.h5\n",
            "Epoch 2/10\n",
            "190/190 [==============================] - 26s 137ms/step - loss: 1.2041 - acc: 0.5416 - val_loss: 1.3648 - val_acc: 0.4744\n",
            "\n",
            "Epoch 00002: val_acc improved from 0.44844 to 0.47441, saving model to best_model.h5\n",
            "Epoch 3/10\n",
            "190/190 [==============================] - 27s 140ms/step - loss: 1.0021 - acc: 0.6254 - val_loss: 1.4594 - val_acc: 0.4670\n",
            "\n",
            "Epoch 00003: val_acc did not improve from 0.47441\n",
            "Epoch 4/10\n",
            "190/190 [==============================] - 26s 139ms/step - loss: 0.8275 - acc: 0.7020 - val_loss: 1.5437 - val_acc: 0.4518\n",
            "\n",
            "Epoch 00004: val_acc did not improve from 0.47441\n",
            "Epoch 5/10\n",
            "190/190 [==============================] - 26s 138ms/step - loss: 0.6887 - acc: 0.7563 - val_loss: 1.7111 - val_acc: 0.4418\n",
            "\n",
            "Epoch 00005: val_acc did not improve from 0.47441\n",
            "Epoch 00005: early stopping\n"
          ]
        }
      ]
    },
    {
      "cell_type": "code",
      "metadata": {
        "colab": {
          "base_uri": "https://localhost:8080/"
        },
        "id": "laH06pghNdl-",
        "outputId": "7a03da49-9bc8-42f4-984f-bff8fec00da0"
      },
      "source": [
        "loaded_model = load_model('best_model.h5')\n",
        "print(loaded_model.evaluate(X_test, y_test)[1])"
      ],
      "execution_count": 34,
      "outputs": [
        {
          "output_type": "stream",
          "name": "stdout",
          "text": [
            "362/362 [==============================] - 5s 13ms/step - loss: 1.3416 - acc: 0.4864\n",
            "0.4863671660423279\n"
          ]
        }
      ]
    },
    {
      "cell_type": "code",
      "metadata": {
        "id": "4_Ha_GJ3WRli"
      },
      "source": [
        ""
      ],
      "execution_count": 34,
      "outputs": []
    },
    {
      "cell_type": "markdown",
      "metadata": {
        "id": "zgHrvkZb4JSz"
      },
      "source": [
        "# BiLSTM"
      ]
    },
    {
      "cell_type": "code",
      "metadata": {
        "id": "mMzFVrCa4IOK"
      },
      "source": [
        "import re\n",
        "from tensorflow.keras.layers import Embedding, Dense, LSTM, Bidirectional\n",
        "from tensorflow.keras.models import Sequential\n",
        "from tensorflow.keras.models import load_model\n",
        "from tensorflow.keras.callbacks import EarlyStopping, ModelCheckpoint"
      ],
      "execution_count": 35,
      "outputs": []
    },
    {
      "cell_type": "code",
      "metadata": {
        "id": "9fxEqK4F4IQe"
      },
      "source": [
        "embedding_dim = 100\n",
        "hidden_units = 128\n",
        "\n",
        "model = Sequential()\n",
        "model.add(Embedding(vocab_size, embedding_dim))\n",
        "model.add(Bidirectional(LSTM(hidden_units)))\n",
        "model.add(Dense(7, activation='softmax'))"
      ],
      "execution_count": 36,
      "outputs": []
    },
    {
      "cell_type": "code",
      "metadata": {
        "id": "_sRuCPtO4IS3"
      },
      "source": [
        "es = EarlyStopping(monitor='val_loss', mode='min', verbose=1, patience=4)\n",
        "mc = ModelCheckpoint('best_model.h5', monitor='val_acc', mode='max', verbose=1, save_best_only=True)"
      ],
      "execution_count": 37,
      "outputs": []
    },
    {
      "cell_type": "code",
      "metadata": {
        "colab": {
          "base_uri": "https://localhost:8080/"
        },
        "id": "eOgbLW2Z4IVH",
        "outputId": "16ae71d5-5715-48f0-be75-684c4cfb27a4"
      },
      "source": [
        "model.compile(optimizer='rmsprop', loss='categorical_crossentropy', metrics=['acc'])\n",
        "history = model.fit(X_train, y_train, epochs=15, callbacks=[es, mc], batch_size=256, validation_data=(X_val, y_val))"
      ],
      "execution_count": 38,
      "outputs": [
        {
          "output_type": "stream",
          "name": "stdout",
          "text": [
            "Epoch 1/15\n",
            "95/95 [==============================] - 39s 372ms/step - loss: 1.7273 - acc: 0.3363 - val_loss: 1.5033 - val_acc: 0.4080\n",
            "\n",
            "Epoch 00001: val_acc improved from -inf to 0.40801, saving model to best_model.h5\n",
            "Epoch 2/15\n",
            "95/95 [==============================] - 34s 353ms/step - loss: 1.3805 - acc: 0.4683 - val_loss: 1.4137 - val_acc: 0.4525\n",
            "\n",
            "Epoch 00002: val_acc improved from 0.40801 to 0.45252, saving model to best_model.h5\n",
            "Epoch 3/15\n",
            "95/95 [==============================] - 34s 360ms/step - loss: 1.2459 - acc: 0.5222 - val_loss: 1.3760 - val_acc: 0.4618\n",
            "\n",
            "Epoch 00003: val_acc improved from 0.45252 to 0.46180, saving model to best_model.h5\n",
            "Epoch 4/15\n",
            "95/95 [==============================] - 34s 361ms/step - loss: 1.1468 - acc: 0.5665 - val_loss: 1.3736 - val_acc: 0.4707\n",
            "\n",
            "Epoch 00004: val_acc improved from 0.46180 to 0.47070, saving model to best_model.h5\n",
            "Epoch 5/15\n",
            "95/95 [==============================] - 35s 369ms/step - loss: 1.0559 - acc: 0.6029 - val_loss: 1.4223 - val_acc: 0.4703\n",
            "\n",
            "Epoch 00005: val_acc did not improve from 0.47070\n",
            "Epoch 6/15\n",
            "95/95 [==============================] - 35s 371ms/step - loss: 0.9763 - acc: 0.6399 - val_loss: 1.4495 - val_acc: 0.4707\n",
            "\n",
            "Epoch 00006: val_acc did not improve from 0.47070\n",
            "Epoch 7/15\n",
            "95/95 [==============================] - 34s 358ms/step - loss: 0.9039 - acc: 0.6708 - val_loss: 1.5076 - val_acc: 0.4559\n",
            "\n",
            "Epoch 00007: val_acc did not improve from 0.47070\n",
            "Epoch 8/15\n",
            "95/95 [==============================] - 34s 358ms/step - loss: 0.8415 - acc: 0.6990 - val_loss: 1.5973 - val_acc: 0.4588\n",
            "\n",
            "Epoch 00008: val_acc did not improve from 0.47070\n",
            "Epoch 00008: early stopping\n"
          ]
        }
      ]
    },
    {
      "cell_type": "code",
      "metadata": {
        "colab": {
          "base_uri": "https://localhost:8080/"
        },
        "id": "iWxqW6Zr4IXg",
        "outputId": "ff467ed3-3298-48f9-81b0-1490cef467af"
      },
      "source": [
        "loaded_model = load_model('best_model.h5')\n",
        "print(loaded_model.evaluate(X_test, y_test)[1])"
      ],
      "execution_count": 39,
      "outputs": [
        {
          "output_type": "stream",
          "name": "stdout",
          "text": [
            "362/362 [==============================] - 8s 20ms/step - loss: 1.3466 - acc: 0.4867\n",
            "0.4867134094238281\n"
          ]
        }
      ]
    },
    {
      "cell_type": "code",
      "metadata": {
        "id": "Ds5oOjUL4IaD"
      },
      "source": [
        ""
      ],
      "execution_count": null,
      "outputs": []
    },
    {
      "cell_type": "code",
      "metadata": {
        "id": "iCl7vVdO4Ici"
      },
      "source": [
        ""
      ],
      "execution_count": null,
      "outputs": []
    },
    {
      "cell_type": "code",
      "metadata": {
        "id": "aOSYa1BB4Ie6"
      },
      "source": [
        ""
      ],
      "execution_count": null,
      "outputs": []
    },
    {
      "cell_type": "code",
      "metadata": {
        "id": "f9gVfho14Iha"
      },
      "source": [
        ""
      ],
      "execution_count": null,
      "outputs": []
    },
    {
      "cell_type": "code",
      "metadata": {
        "id": "yMnsT3npyZrs"
      },
      "source": [
        ""
      ],
      "execution_count": null,
      "outputs": []
    },
    {
      "cell_type": "markdown",
      "metadata": {
        "id": "DEVxCvuuyZ1g"
      },
      "source": [
        "# Word 2 Vec"
      ]
    },
    {
      "cell_type": "code",
      "metadata": {
        "id": "0gKW38Nle1sX"
      },
      "source": [
        "from sklearn.model_selection import train_test_split\n",
        "X_, X_test, y_, y_test = train_test_split(X_morphs, y_org, \n",
        "                                          test_size=0.3, \n",
        "                                          random_state=777, \n",
        "                                          stratify=y_org)\n",
        "X_train, X_val, y_train, y_val = train_test_split(X_, y_, \n",
        "                                                  test_size=0.1, \n",
        "                                                  random_state=777,\n",
        "                                                  stratify=y_)"
      ],
      "execution_count": 41,
      "outputs": []
    },
    {
      "cell_type": "code",
      "metadata": {
        "id": "mpQKrZQw5YG3"
      },
      "source": [
        "from sklearn.preprocessing import LabelEncoder\n",
        "enc = LabelEncoder()\n",
        "y_train = enc.fit_transform(y_train)\n",
        "y_val = enc.transform(y_val)\n",
        "y_test = enc.transform(y_test)\n",
        "\n",
        "from tensorflow.keras.utils import to_categorical\n",
        "y_train = to_categorical(y_train)\n",
        "y_val = to_categorical(y_val)\n",
        "y_test = to_categorical(y_test)"
      ],
      "execution_count": 42,
      "outputs": []
    },
    {
      "cell_type": "code",
      "metadata": {
        "id": "HGjhodkwv19x"
      },
      "source": [
        "from gensim.models import Word2Vec\n",
        "w2v = Word2Vec(sentences=X_train, size=100, window=5, min_count=3, workers=4, sg=0)"
      ],
      "execution_count": 43,
      "outputs": []
    },
    {
      "cell_type": "code",
      "metadata": {
        "id": "tthW-NDryZt0"
      },
      "source": [
        "def embedding(X, wv):\n",
        "  embed_dim = 100\n",
        "  pad_num = 30\n",
        "  pad_vec = [0 for j in range(100)]\n",
        "  ret = []\n",
        "  for sent in X:\n",
        "    newsent = []\n",
        "    for i in range(pad_num):\n",
        "      try:\n",
        "        newsent.append(wv[sent[i]])\n",
        "      except:\n",
        "        newsent.append(pad_vec)\n",
        "    ret.append(newsent)\n",
        "  return np.array(ret)"
      ],
      "execution_count": 44,
      "outputs": []
    },
    {
      "cell_type": "code",
      "metadata": {
        "id": "6mf_CEgXyzHP"
      },
      "source": [
        "X_train_embed = embedding(X_train, w2v.wv)"
      ],
      "execution_count": 45,
      "outputs": []
    },
    {
      "cell_type": "code",
      "metadata": {
        "colab": {
          "base_uri": "https://localhost:8080/"
        },
        "id": "QIcVCAvmunc9",
        "outputId": "0c04ec72-f021-41da-d29f-9c8eaca4e403"
      },
      "source": [
        "X_train_embed.shape"
      ],
      "execution_count": 46,
      "outputs": [
        {
          "output_type": "execute_result",
          "data": {
            "text/plain": [
              "(24260, 30, 100)"
            ]
          },
          "metadata": {},
          "execution_count": 46
        }
      ]
    },
    {
      "cell_type": "code",
      "metadata": {
        "id": "vAv8xNskw-c8"
      },
      "source": [
        "X_val_embed = embedding(X_val, w2v.wv)\n",
        "X_test_embed = embedding(X_test, w2v.wv)"
      ],
      "execution_count": 47,
      "outputs": []
    },
    {
      "cell_type": "code",
      "metadata": {
        "id": "snKx_X0VxXin"
      },
      "source": [
        "hidden_units = 128\n",
        "num_classes = 7\n",
        "\n",
        "model = Sequential()\n",
        "model.add(LSTM(hidden_units))\n",
        "model.add(Dense(num_classes, activation='softmax'))\n",
        "\n",
        "es = EarlyStopping(monitor='val_loss', mode='min', verbose=1, patience=3)\n",
        "mc = ModelCheckpoint('best_model.h5', monitor='val_acc', mode='max', verbose=1, save_best_only=True)\n",
        "\n",
        "model.compile(loss='categorical_crossentropy', optimizer='adam', metrics=['acc'])\n"
      ],
      "execution_count": 48,
      "outputs": []
    },
    {
      "cell_type": "code",
      "metadata": {
        "colab": {
          "base_uri": "https://localhost:8080/"
        },
        "id": "K5D-OR_C03bJ",
        "outputId": "656a7531-a2fa-41df-8609-69a4e3cf1fd6"
      },
      "source": [
        "history = model.fit(X_train_embed, y_train, batch_size=128, epochs=10, callbacks=[es, mc], \n",
        "                    validation_data=(X_val_embed, y_val))"
      ],
      "execution_count": 49,
      "outputs": [
        {
          "output_type": "stream",
          "name": "stdout",
          "text": [
            "Epoch 1/10\n",
            "190/190 [==============================] - 24s 112ms/step - loss: 1.9184 - acc: 0.1866 - val_loss: 1.8129 - val_acc: 0.2493\n",
            "\n",
            "Epoch 00001: val_acc improved from -inf to 0.24926, saving model to best_model.h5\n",
            "Epoch 2/10\n",
            "190/190 [==============================] - 21s 110ms/step - loss: 1.8283 - acc: 0.2424 - val_loss: 1.8122 - val_acc: 0.2522\n",
            "\n",
            "Epoch 00002: val_acc improved from 0.24926 to 0.25223, saving model to best_model.h5\n",
            "Epoch 3/10\n",
            "190/190 [==============================] - 21s 109ms/step - loss: 1.8062 - acc: 0.2589 - val_loss: 1.7605 - val_acc: 0.2871\n",
            "\n",
            "Epoch 00003: val_acc improved from 0.25223 to 0.28709, saving model to best_model.h5\n",
            "Epoch 4/10\n",
            "190/190 [==============================] - 21s 109ms/step - loss: 1.7489 - acc: 0.2975 - val_loss: 1.7023 - val_acc: 0.3223\n",
            "\n",
            "Epoch 00004: val_acc improved from 0.28709 to 0.32233, saving model to best_model.h5\n",
            "Epoch 5/10\n",
            "190/190 [==============================] - 21s 109ms/step - loss: 1.7150 - acc: 0.3144 - val_loss: 1.7195 - val_acc: 0.3060\n",
            "\n",
            "Epoch 00005: val_acc did not improve from 0.32233\n",
            "Epoch 6/10\n",
            "190/190 [==============================] - 21s 109ms/step - loss: 1.7022 - acc: 0.3204 - val_loss: 1.6853 - val_acc: 0.3212\n",
            "\n",
            "Epoch 00006: val_acc did not improve from 0.32233\n",
            "Epoch 7/10\n",
            "190/190 [==============================] - 21s 110ms/step - loss: 1.6948 - acc: 0.3269 - val_loss: 1.6738 - val_acc: 0.3297\n",
            "\n",
            "Epoch 00007: val_acc improved from 0.32233 to 0.32975, saving model to best_model.h5\n",
            "Epoch 8/10\n",
            "190/190 [==============================] - 21s 110ms/step - loss: 1.6900 - acc: 0.3251 - val_loss: 1.6747 - val_acc: 0.3409\n",
            "\n",
            "Epoch 00008: val_acc improved from 0.32975 to 0.34088, saving model to best_model.h5\n",
            "Epoch 9/10\n",
            "190/190 [==============================] - 20s 108ms/step - loss: 1.6830 - acc: 0.3303 - val_loss: 1.6541 - val_acc: 0.3401\n",
            "\n",
            "Epoch 00009: val_acc did not improve from 0.34088\n",
            "Epoch 10/10\n",
            "190/190 [==============================] - 21s 108ms/step - loss: 1.6741 - acc: 0.3348 - val_loss: 1.6658 - val_acc: 0.3238\n",
            "\n",
            "Epoch 00010: val_acc did not improve from 0.34088\n"
          ]
        }
      ]
    },
    {
      "cell_type": "code",
      "metadata": {
        "id": "2xTM6WivTYb8",
        "colab": {
          "base_uri": "https://localhost:8080/"
        },
        "outputId": "f99d005c-21aa-498b-d232-9a535c2c9dab"
      },
      "source": [
        "loaded_model = load_model('best_model.h5')\n",
        "print(loaded_model.evaluate(X_test_embed, y_test)[1])"
      ],
      "execution_count": 50,
      "outputs": [
        {
          "output_type": "stream",
          "name": "stdout",
          "text": [
            "362/362 [==============================] - 5s 13ms/step - loss: 1.7016 - acc: 0.3236\n",
            "0.3236388862133026\n"
          ]
        }
      ]
    },
    {
      "cell_type": "code",
      "metadata": {
        "colab": {
          "base_uri": "https://localhost:8080/"
        },
        "id": "RKZAmh831H8x",
        "outputId": "764f3d5e-6fe0-4cf7-c3fb-4d686edbfda7"
      },
      "source": [
        "w2v.wv.vectors.shape"
      ],
      "execution_count": 51,
      "outputs": [
        {
          "output_type": "execute_result",
          "data": {
            "text/plain": [
              "(6838, 100)"
            ]
          },
          "metadata": {},
          "execution_count": 51
        }
      ]
    },
    {
      "cell_type": "code",
      "metadata": {
        "id": "SznnxoC_3r3A"
      },
      "source": [
        ""
      ],
      "execution_count": null,
      "outputs": []
    },
    {
      "cell_type": "markdown",
      "metadata": {
        "id": "HwELaZLz8FOK"
      },
      "source": [
        "# FastText"
      ]
    },
    {
      "cell_type": "code",
      "metadata": {
        "colab": {
          "base_uri": "https://localhost:8080/"
        },
        "id": "iS_uk2ay69vE",
        "outputId": "b5fc2256-e0fb-45b7-dc39-a38c144e37cb"
      },
      "source": [
        "!pip install fasttext==0.6.0"
      ],
      "execution_count": 52,
      "outputs": [
        {
          "output_type": "stream",
          "name": "stdout",
          "text": [
            "Collecting fasttext==0.6.0\n",
            "  Downloading fasttext-0.6.0.tar.gz (57 kB)\n",
            "\u001b[K     |████████████████████████████████| 57 kB 2.7 MB/s \n",
            "\u001b[?25hRequirement already satisfied: numpy>=1 in /usr/local/lib/python3.7/dist-packages (from fasttext==0.6.0) (1.19.5)\n",
            "Building wheels for collected packages: fasttext\n",
            "  Building wheel for fasttext (setup.py) ... \u001b[?25l\u001b[?25hdone\n",
            "  Created wheel for fasttext: filename=fasttext-0.6.0-cp37-cp37m-linux_x86_64.whl size=754501 sha256=dab1fd6aa07c1208ab078d87553cfc964e03c89a4ab856063e1efb2ca07ae5c0\n",
            "  Stored in directory: /root/.cache/pip/wheels/7c/a3/d3/e2ef2522860f5fcd3aa2663ceadbf7dad932422476b080b24f\n",
            "Successfully built fasttext\n",
            "Installing collected packages: fasttext\n",
            "Successfully installed fasttext-0.6.0\n"
          ]
        }
      ]
    },
    {
      "cell_type": "code",
      "metadata": {
        "id": "i1StVrJg69x7"
      },
      "source": [
        "import fasttext"
      ],
      "execution_count": 53,
      "outputs": []
    },
    {
      "cell_type": "code",
      "metadata": {
        "id": "6qhCsezKIPYr"
      },
      "source": [
        "import gensim"
      ],
      "execution_count": 54,
      "outputs": []
    },
    {
      "cell_type": "code",
      "metadata": {
        "id": "6o4rwWqKTaNd"
      },
      "source": [
        "# Colab 내에서 워드벡터 파일 로드 실패. 로컬 컴퓨터에서 임베딩해서 옮겨옴. \n",
        "X_embed = np.load('/gdrive/My Drive/Colab Notebooks/X_embed.npy', allow_pickle=True)"
      ],
      "execution_count": 55,
      "outputs": []
    },
    {
      "cell_type": "code",
      "metadata": {
        "id": "9vyeka_kXdGY"
      },
      "source": [
        "y_org = np.load('/gdrive/My Drive/Colab Notebooks/y_org.npy', allow_pickle=True)"
      ],
      "execution_count": 56,
      "outputs": []
    },
    {
      "cell_type": "code",
      "metadata": {
        "id": "Ub4GcbX6W2x5"
      },
      "source": [
        "from sklearn.model_selection import train_test_split\n",
        "X_train, X_test, y_train, y_test = train_test_split(X_embed, y_org, \n",
        "                                          test_size=0.3, \n",
        "                                          random_state=777, \n",
        "                                          stratify=y_org)"
      ],
      "execution_count": 57,
      "outputs": []
    },
    {
      "cell_type": "code",
      "metadata": {
        "id": "uVXbmL8BXID_"
      },
      "source": [
        ""
      ],
      "execution_count": 57,
      "outputs": []
    },
    {
      "cell_type": "code",
      "metadata": {
        "id": "PqEL3QeEThlU"
      },
      "source": [
        "from sklearn.preprocessing import LabelEncoder\n",
        "enc = LabelEncoder()\n",
        "y_train = enc.fit_transform(y_train)\n",
        "y_test = enc.transform(y_test)"
      ],
      "execution_count": 58,
      "outputs": []
    },
    {
      "cell_type": "code",
      "metadata": {
        "id": "Kr39puRmThn2"
      },
      "source": [
        "from tensorflow.keras.utils import to_categorical\n",
        "y_train = to_categorical(y_train)\n",
        "y_test = to_categorical(y_test)"
      ],
      "execution_count": 59,
      "outputs": []
    },
    {
      "cell_type": "code",
      "metadata": {
        "id": "14oylVKhUdd6"
      },
      "source": [
        ""
      ],
      "execution_count": 59,
      "outputs": []
    },
    {
      "cell_type": "code",
      "metadata": {
        "id": "HezPUBM2Udi_"
      },
      "source": [
        ""
      ],
      "execution_count": 59,
      "outputs": []
    },
    {
      "cell_type": "code",
      "metadata": {
        "id": "HFfH9lJDUdlY"
      },
      "source": [
        ""
      ],
      "execution_count": 59,
      "outputs": []
    },
    {
      "cell_type": "code",
      "metadata": {
        "id": "tbAVVx9oUdnZ"
      },
      "source": [
        ""
      ],
      "execution_count": 59,
      "outputs": []
    },
    {
      "cell_type": "code",
      "metadata": {
        "id": "hQulIRavThqC"
      },
      "source": [
        ""
      ],
      "execution_count": 59,
      "outputs": []
    },
    {
      "cell_type": "code",
      "metadata": {
        "id": "gkdJDLBmIw8X"
      },
      "source": [
        "hidden_units = 128\n",
        "num_classes = 7\n",
        "\n",
        "model = Sequential()\n",
        "model.add(LSTM(hidden_units))\n",
        "model.add(Dense(num_classes, activation='softmax'))\n",
        "\n",
        "es = EarlyStopping(monitor='val_loss', mode='min', verbose=1, patience=3)\n",
        "mc = ModelCheckpoint('best_model.h5', monitor='val_acc', mode='max', verbose=1, save_best_only=True)\n",
        "\n",
        "model.compile(loss='categorical_crossentropy', optimizer='adam', metrics=['acc'])"
      ],
      "execution_count": 60,
      "outputs": []
    },
    {
      "cell_type": "code",
      "metadata": {
        "colab": {
          "base_uri": "https://localhost:8080/"
        },
        "id": "myhEezKmTZNC",
        "outputId": "2c7112a0-fac5-483a-83fe-9676ee48cf17"
      },
      "source": [
        "history = model.fit(X_train, y_train, batch_size=128, epochs=30, callbacks=[es, mc], \n",
        "                    validation_split=0.2)"
      ],
      "execution_count": 61,
      "outputs": [
        {
          "output_type": "stream",
          "name": "stdout",
          "text": [
            "Epoch 1/30\n",
            "169/169 [==============================] - 27s 149ms/step - loss: 1.6815 - acc: 0.3106 - val_loss: 1.5185 - val_acc: 0.3906\n",
            "\n",
            "Epoch 00001: val_acc improved from -inf to 0.39058, saving model to best_model.h5\n",
            "Epoch 2/30\n",
            "169/169 [==============================] - 24s 145ms/step - loss: 1.4699 - acc: 0.4169 - val_loss: 1.4626 - val_acc: 0.4210\n",
            "\n",
            "Epoch 00002: val_acc improved from 0.39058 to 0.42099, saving model to best_model.h5\n",
            "Epoch 3/30\n",
            "169/169 [==============================] - 24s 143ms/step - loss: 1.4358 - acc: 0.4334 - val_loss: 1.4588 - val_acc: 0.4266\n",
            "\n",
            "Epoch 00003: val_acc improved from 0.42099 to 0.42656, saving model to best_model.h5\n",
            "Epoch 4/30\n",
            "169/169 [==============================] - 24s 145ms/step - loss: 1.4053 - acc: 0.4464 - val_loss: 1.4311 - val_acc: 0.4423\n",
            "\n",
            "Epoch 00004: val_acc improved from 0.42656 to 0.44232, saving model to best_model.h5\n",
            "Epoch 5/30\n",
            "169/169 [==============================] - 24s 145ms/step - loss: 1.3814 - acc: 0.4590 - val_loss: 1.4350 - val_acc: 0.4431\n",
            "\n",
            "Epoch 00005: val_acc improved from 0.44232 to 0.44306, saving model to best_model.h5\n",
            "Epoch 6/30\n",
            "169/169 [==============================] - 25s 146ms/step - loss: 1.3638 - acc: 0.4709 - val_loss: 1.4296 - val_acc: 0.4353\n",
            "\n",
            "Epoch 00006: val_acc did not improve from 0.44306\n",
            "Epoch 7/30\n",
            "169/169 [==============================] - 25s 146ms/step - loss: 1.3376 - acc: 0.4805 - val_loss: 1.4079 - val_acc: 0.4473\n",
            "\n",
            "Epoch 00007: val_acc improved from 0.44306 to 0.44733, saving model to best_model.h5\n",
            "Epoch 8/30\n",
            "169/169 [==============================] - 24s 145ms/step - loss: 1.3094 - acc: 0.4926 - val_loss: 1.4100 - val_acc: 0.4407\n",
            "\n",
            "Epoch 00008: val_acc did not improve from 0.44733\n",
            "Epoch 9/30\n",
            "169/169 [==============================] - 25s 149ms/step - loss: 1.2852 - acc: 0.5035 - val_loss: 1.4065 - val_acc: 0.4579\n",
            "\n",
            "Epoch 00009: val_acc improved from 0.44733 to 0.45790, saving model to best_model.h5\n",
            "Epoch 10/30\n",
            "169/169 [==============================] - 25s 149ms/step - loss: 1.2507 - acc: 0.5205 - val_loss: 1.3861 - val_acc: 0.4572\n",
            "\n",
            "Epoch 00010: val_acc did not improve from 0.45790\n",
            "Epoch 11/30\n",
            "169/169 [==============================] - 26s 151ms/step - loss: 1.2348 - acc: 0.5230 - val_loss: 1.3877 - val_acc: 0.4681\n",
            "\n",
            "Epoch 00011: val_acc improved from 0.45790 to 0.46810, saving model to best_model.h5\n",
            "Epoch 12/30\n",
            "169/169 [==============================] - 26s 157ms/step - loss: 1.1958 - acc: 0.5436 - val_loss: 1.4132 - val_acc: 0.4616\n",
            "\n",
            "Epoch 00012: val_acc did not improve from 0.46810\n",
            "Epoch 13/30\n",
            "169/169 [==============================] - 25s 148ms/step - loss: 1.1658 - acc: 0.5566 - val_loss: 1.4101 - val_acc: 0.4627\n",
            "\n",
            "Epoch 00013: val_acc did not improve from 0.46810\n",
            "Epoch 00013: early stopping\n"
          ]
        }
      ]
    },
    {
      "cell_type": "code",
      "metadata": {
        "colab": {
          "base_uri": "https://localhost:8080/"
        },
        "id": "Inh5qpPZUxdz",
        "outputId": "a6dc6007-a83d-4a50-8b27-f0712e897ac7"
      },
      "source": [
        "loaded_model = load_model('best_model.h5')\n",
        "print(loaded_model.evaluate(X_test, y_test)[1])"
      ],
      "execution_count": 62,
      "outputs": [
        {
          "output_type": "stream",
          "name": "stdout",
          "text": [
            "362/362 [==============================] - 9s 23ms/step - loss: 1.3873 - acc: 0.4691\n",
            "0.46914222836494446\n"
          ]
        }
      ]
    },
    {
      "cell_type": "code",
      "metadata": {
        "id": "GWaKBBWEaCsy"
      },
      "source": [
        ""
      ],
      "execution_count": 62,
      "outputs": []
    },
    {
      "cell_type": "code",
      "metadata": {
        "id": "4JmoywDuaPH_"
      },
      "source": [
        ""
      ],
      "execution_count": 62,
      "outputs": []
    },
    {
      "cell_type": "markdown",
      "metadata": {
        "id": "P8xCgoJ7aPTJ"
      },
      "source": [
        "# 결과\n",
        "* LSTM + Embedding() = 0.4881\n",
        "* BiLSTM + Embedding() = 0.4815\n",
        "* LSTM + Word2Vec(자체훈련) = 0.3236\n",
        "* LSTM + FastText(훈련된 모델) = 0.4672"
      ]
    },
    {
      "cell_type": "markdown",
      "metadata": {
        "id": "olus2GdlbHXM"
      },
      "source": [
        "# 앞으로 할 것\n",
        "* BERT 사용해보기\n",
        "* word 2 vec ??"
      ]
    },
    {
      "cell_type": "code",
      "metadata": {
        "id": "7A5WcXKqbECU"
      },
      "source": [
        ""
      ],
      "execution_count": 62,
      "outputs": []
    }
  ]
}